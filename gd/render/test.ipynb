{
 "cells": [
  {
   "cell_type": "code",
   "execution_count": 3,
   "metadata": {},
   "outputs": [],
   "source": [
    "import numpy as np"
   ]
  },
  {
   "cell_type": "code",
   "execution_count": 6,
   "metadata": {},
   "outputs": [],
   "source": [
    "a = np.array([\n",
    "    [1, 2, 3, 4],\n",
    "    [5, 6, 7, 8],\n",
    "    [9, 10, 11, 12],\n",
    "    [13, 14, 15, 16]\n",
    "])\n",
    "\n",
    "a2 = np.array([\n",
    "    [[1,1,1], [2,2,2], [3,3,3], [4,4,4]],\n",
    "    [[5,5,5], [6,6,6], [7,7,7], [8,8,8]],\n",
    "    [[9,9,9], [10,10,10], [11,11,11], [12,12,12]],\n",
    "    [[13,13,13], [14,14,14], [15,15,15], [16,16,16]],\n",
    "])"
   ]
  },
  {
   "cell_type": "code",
   "execution_count": 8,
   "metadata": {},
   "outputs": [
    {
     "data": {
      "text/plain": [
       "array([[[ 1,  1,  1],\n",
       "        [ 2,  2,  2],\n",
       "        [ 3,  3,  3],\n",
       "        [ 4,  4,  4],\n",
       "        [ 0,  0,  0]],\n",
       "\n",
       "       [[ 5,  5,  5],\n",
       "        [ 6,  6,  6],\n",
       "        [ 7,  7,  7],\n",
       "        [ 8,  8,  8],\n",
       "        [ 0,  0,  0]],\n",
       "\n",
       "       [[ 9,  9,  9],\n",
       "        [10, 10, 10],\n",
       "        [11, 11, 11],\n",
       "        [12, 12, 12],\n",
       "        [ 0,  0,  0]],\n",
       "\n",
       "       [[13, 13, 13],\n",
       "        [14, 14, 14],\n",
       "        [15, 15, 15],\n",
       "        [16, 16, 16],\n",
       "        [ 0,  0,  0]]])"
      ]
     },
     "execution_count": 8,
     "metadata": {},
     "output_type": "execute_result"
    }
   ],
   "source": [
    "np.pad(a2, ((0, 0), (0, 1), (0, 0)), mode='constant', constant_values=0)"
   ]
  },
  {
   "cell_type": "code",
   "execution_count": 4,
   "metadata": {},
   "outputs": [
    {
     "name": "stdout",
     "output_type": "stream",
     "text": [
      "Original array (4x4x3):\n",
      "[[[187  62  63]\n",
      "  [ 98 156 132]\n",
      "  [155 190 184]\n",
      "  [185 168 157]]\n",
      "\n",
      " [[  4 205 172]\n",
      "  [ 56 233 199]\n",
      "  [241 229 129]\n",
      "  [ 95  68 146]]\n",
      "\n",
      " [[183 103  71]\n",
      "  [162  73 155]\n",
      "  [ 56 244  30]\n",
      "  [247 202 185]]\n",
      "\n",
      " [[106 152  77]\n",
      "  [207 147 172]\n",
      "  [ 71 104 142]\n",
      "  [108 158 235]]]\n",
      "\n",
      "New array (4x4x4):\n",
      "[[[157 176  70 243]\n",
      "  [125 126 238 183]\n",
      "  [107 222 112 241]\n",
      "  [ 24 250  24  19]]\n",
      "\n",
      " [[169  19 240  47]\n",
      "  [ 37 208 169 201]\n",
      "  [ 23 252 252 222]\n",
      "  [191 187 120 131]]\n",
      "\n",
      " [[105 173 165 211]\n",
      "  [ 91 250   6  47]\n",
      "  [ 88  14 246 145]\n",
      "  [ 22 150 246  95]]\n",
      "\n",
      " [[250 146  81  53]\n",
      "  [ 23  82 221 117]\n",
      "  [121  53  74 106]\n",
      "  [104  24 188 254]]]\n",
      "\n",
      "Blended array (4x4x3):\n",
      "[[[158 170  69]\n",
      "  [117 134 208]\n",
      "  [109 220 115]\n",
      "  [173 174 147]]\n",
      "\n",
      " [[ 34 170 184]\n",
      "  [ 41 213 175]\n",
      "  [ 51 249 236]\n",
      "  [144 129 132]]\n",
      "\n",
      " [[118 160 148]\n",
      "  [148 105 127]\n",
      "  [ 74 113 152]\n",
      "  [163 182 207]]\n",
      "\n",
      " [[135 150  77]\n",
      "  [122 117 194]\n",
      "  [ 91  82 113]\n",
      "  [104  24 188]]]\n"
     ]
    }
   ],
   "source": [
    "# this is copied RIGHT from chatgpt and im NOT afraid to say it\n",
    "\n",
    "import numpy as np\n",
    "\n",
    "def blend_colors(original: np.ndarray, new: np.ndarray) -> np.ndarray:\n",
    "    # Ensure the original array has 3 channels and the new array has 4 channels\n",
    "    assert original.shape[:2] == new.shape[:2], \"The first two dimensions must match\"\n",
    "    assert original.shape[2] == 3, \"The original array must have 3 channels\"\n",
    "    assert new.shape[2] == 4, \"The new array must have 4 channels\"\n",
    "\n",
    "    # Extract RGB and alpha components\n",
    "    new_rgb = new[..., :3]\n",
    "    new_alpha = new[..., 3] / 255.0\n",
    "\n",
    "    # Perform the blending\n",
    "    blended_rgb = (new_rgb * new_alpha[..., np.newaxis] + \n",
    "                   original * (1 - new_alpha[..., np.newaxis]))\n",
    "\n",
    "    # Convert to integer type\n",
    "    blended_rgb = blended_rgb.astype(int)\n",
    "\n",
    "    return blended_rgb\n",
    "\n",
    "# Example usage\n",
    "original = np.random.randint(0, 256, (4, 4, 3), dtype=int)\n",
    "new = np.random.randint(0, 256, (4, 4, 4), dtype=int)\n",
    "\n",
    "print(\"Original array (4x4x3):\")\n",
    "print(original)\n",
    "print(\"\\nNew array (4x4x4):\")\n",
    "print(new)\n",
    "\n",
    "blended = blend_colors(original, new)\n",
    "print(\"\\nBlended array (4x4x3):\")\n",
    "print(blended)\n"
   ]
  },
  {
   "cell_type": "code",
   "execution_count": 1,
   "metadata": {},
   "outputs": [
    {
     "ename": "NameError",
     "evalue": "name 'a' is not defined",
     "output_type": "error",
     "traceback": [
      "\u001b[1;31m---------------------------------------------------------------------------\u001b[0m",
      "\u001b[1;31mNameError\u001b[0m                                 Traceback (most recent call last)",
      "Cell \u001b[1;32mIn[1], line 1\u001b[0m\n\u001b[1;32m----> 1\u001b[0m \u001b[43ma\u001b[49m\n",
      "\u001b[1;31mNameError\u001b[0m: name 'a' is not defined"
     ]
    }
   ],
   "source": [
    "a"
   ]
  }
 ],
 "metadata": {
  "kernelspec": {
   "display_name": "Python 3",
   "language": "python",
   "name": "python3"
  },
  "language_info": {
   "codemirror_mode": {
    "name": "ipython",
    "version": 3
   },
   "file_extension": ".py",
   "mimetype": "text/x-python",
   "name": "python",
   "nbconvert_exporter": "python",
   "pygments_lexer": "ipython3",
   "version": "3.12.1"
  }
 },
 "nbformat": 4,
 "nbformat_minor": 2
}
