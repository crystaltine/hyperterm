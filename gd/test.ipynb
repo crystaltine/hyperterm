{
 "cells": [
  {
   "cell_type": "code",
   "execution_count": 1,
   "metadata": {},
   "outputs": [],
   "source": [
    "import numpy as np"
   ]
  },
  {
   "cell_type": "code",
   "execution_count": 3,
   "metadata": {},
   "outputs": [],
   "source": [
    "a = np.array([\n",
    "    [1, 2, 3, 4],\n",
    "    [5, 6, 7, 8],\n",
    "    [9, 10, 11, 12],\n",
    "    [13, 14, 15, 16]\n",
    "])\n",
    "\n",
    "a2 = np.array([\n",
    "    [[1,1,1,1], [2,2,2,2], [3,3,3,3], [4,4,4,4]],\n",
    "    [[5,5,5,5], [6,6,6,6], [7,7,7,7], [8,8,8,8]],\n",
    "    [[9,9,9,9], [10,10,10,10], [11,11,11,11], [12,12,12,12]],\n",
    "    [[13,13,13,13], [14,14,14,14], [15,15,15,15], [16,16,16,16]],\n",
    "])"
   ]
  },
  {
   "cell_type": "code",
   "execution_count": 6,
   "metadata": {},
   "outputs": [],
   "source": [
    "b1 = np.array([\n",
    "    [[1,1,1,1], [2,2,2,2], [3,3,3,3], [4,4,4,4]],\n",
    "    [[5,5,5,5], [6,6,6,6], [7,7,7,7], [8,8,8,8]],\n",
    "])\n",
    "\n",
    "b2 = np.array([\n",
    "    [[9,9,9,9], [10,10,10,10], [10,10,10,10], [12,12,12,12]],\n",
    "    [[13,13,13,13], [14,14,14,14], [14,14,14,14], [16,16,16,16]],\n",
    "])"
   ]
  },
  {
   "cell_type": "code",
   "execution_count": 8,
   "metadata": {},
   "outputs": [
    {
     "data": {
      "text/plain": [
       "array([ True, False,  True])"
      ]
     },
     "execution_count": 8,
     "metadata": {},
     "output_type": "execute_result"
    }
   ],
   "source": [
    "def compare_adjacent_columns(color_strip):\n",
    "    # Ensure the input array is a numpy array\n",
    "    color_strip = np.asarray(color_strip)\n",
    "    \n",
    "    # We assume color_strip shape is (2, n, 4)\n",
    "    # Calculate differences between adjacent columns\n",
    "    differences = np.any(color_strip[:, 1:] != color_strip[:, :-1], axis=(0, 2))\n",
    "    \n",
    "    # differences will be a 1D numpy array where True indicates the current column is different from the previous one\n",
    "    return differences\n",
    "compare_adjacent_columns(b2)\n"
   ]
  },
  {
   "cell_type": "code",
   "execution_count": 16,
   "metadata": {},
   "outputs": [],
   "source": [
    "def vectorized_distances_to_true(bool_array):\n",
    "    # Ensure input is a numpy array\n",
    "    bool_array = np.asarray(bool_array)\n",
    "    \n",
    "    # Find the indices where the array is True\n",
    "    true_indices = np.where(bool_array)[0]\n",
    "    \n",
    "    # Calculate the distances between consecutive True indices\n",
    "    if len(true_indices) == 0:\n",
    "        return []  # Return an empty list if there are no True values\n",
    "\n",
    "    # Distances between consecutive Trues\n",
    "    distances = np.diff(true_indices) - 1\n",
    "\n",
    "    # Include distance from the start to the first True if it starts with False\n",
    "    if true_indices[0] != 0:\n",
    "        distances = np.insert(distances, 0, true_indices[0])\n",
    "\n",
    "    return distances.tolist()"
   ]
  },
  {
   "cell_type": "code",
   "execution_count": 21,
   "metadata": {},
   "outputs": [
    {
     "name": "stdout",
     "output_type": "stream",
     "text": [
      "[False, False, False, True, False, False, False, True]\n",
      "[3, 3]\n"
     ]
    }
   ],
   "source": [
    "input_array = [False, False, False, True, False, False, False, True]\n",
    "output = vectorized_distances_to_true(input_array)\n",
    "print(input_array)\n",
    "print(output)  # Output will be [3, 3]\n"
   ]
  },
  {
   "cell_type": "code",
   "execution_count": 23,
   "metadata": {},
   "outputs": [
    {
     "name": "stdout",
     "output_type": "stream",
     "text": [
      "[ True  True False  True  True  True  True False False False  True]\n",
      "[0, 1, 0, 0, 0, 3]\n"
     ]
    }
   ],
   "source": [
    "color_strip = np.array([\n",
    "    [[1, 1, 1], [1, 1, 1], [1, 1, 1], [1, 1, 1], [2, 2, 2], [1, 1, 1],[1, 1, 1], [1, 1, 1], [1, 1, 1], [1, 1, 1], [1, 1, 1], [2, 1, 1]],\n",
    "    [[1, 1, 1], [2, 1, 1], [1, 1, 1], [1, 1, 1], [2, 2, 2], [1, 1, 1],[9, 1, 1], [1, 1, 1], [1, 1, 1], [1, 1, 1], [1, 1, 1], [9, 1, 1]],\n",
    "])\n",
    "test1 = np.any(color_strip[:, 1:] != color_strip[:, :-1], axis=(0, 2))\n",
    "print(test1)\n",
    "\n",
    "print(vectorized_distances_to_true(test1))"
   ]
  },
  {
   "cell_type": "code",
   "execution_count": 26,
   "metadata": {},
   "outputs": [
    {
     "ename": "ValueError",
     "evalue": "operands could not be broadcast together with shapes (4,) (0,) ",
     "output_type": "error",
     "traceback": [
      "\u001b[1;31m---------------------------------------------------------------------------\u001b[0m",
      "\u001b[1;31mValueError\u001b[0m                                Traceback (most recent call last)",
      "Cell \u001b[1;32mIn[26], line 26\u001b[0m\n\u001b[0;32m     23\u001b[0m     \u001b[38;5;28;01mreturn\u001b[39;00m false_sizes\u001b[38;5;241m.\u001b[39mtolist()\n\u001b[0;32m     25\u001b[0m input_array \u001b[38;5;241m=\u001b[39m np\u001b[38;5;241m.\u001b[39marray([\u001b[38;5;28;01mTrue\u001b[39;00m, \u001b[38;5;28;01mFalse\u001b[39;00m, \u001b[38;5;28;01mFalse\u001b[39;00m, \u001b[38;5;28;01mFalse\u001b[39;00m, \u001b[38;5;28;01mTrue\u001b[39;00m, \u001b[38;5;28;01mTrue\u001b[39;00m, \u001b[38;5;28;01mFalse\u001b[39;00m, \u001b[38;5;28;01mFalse\u001b[39;00m, \u001b[38;5;28;01mTrue\u001b[39;00m])\n\u001b[1;32m---> 26\u001b[0m output \u001b[38;5;241m=\u001b[39m \u001b[43mfalse_chunk_sizes\u001b[49m\u001b[43m(\u001b[49m\u001b[43minput_array\u001b[49m\u001b[43m)\u001b[49m\n\u001b[0;32m     27\u001b[0m \u001b[38;5;28mprint\u001b[39m(output)  \u001b[38;5;66;03m# Output will be [3, 2]\u001b[39;00m\n",
      "Cell \u001b[1;32mIn[26], line 21\u001b[0m, in \u001b[0;36mfalse_chunk_sizes\u001b[1;34m(bool_array)\u001b[0m\n\u001b[0;32m     18\u001b[0m     false_ends \u001b[38;5;241m=\u001b[39m np\u001b[38;5;241m.\u001b[39mappend(false_ends, \u001b[38;5;28mlen\u001b[39m(bool_array) \u001b[38;5;241m-\u001b[39m \u001b[38;5;241m1\u001b[39m)\n\u001b[0;32m     20\u001b[0m \u001b[38;5;66;03m# Calculate the sizes of the false chunks\u001b[39;00m\n\u001b[1;32m---> 21\u001b[0m false_sizes \u001b[38;5;241m=\u001b[39m \u001b[43mfalse_ends\u001b[49m\u001b[43m \u001b[49m\u001b[38;5;241;43m-\u001b[39;49m\u001b[43m \u001b[49m\u001b[43mfalse_starts\u001b[49m \u001b[38;5;241m+\u001b[39m \u001b[38;5;241m1\u001b[39m\n\u001b[0;32m     23\u001b[0m \u001b[38;5;28;01mreturn\u001b[39;00m false_sizes\u001b[38;5;241m.\u001b[39mtolist()\n",
      "\u001b[1;31mValueError\u001b[0m: operands could not be broadcast together with shapes (4,) (0,) "
     ]
    }
   ],
   "source": [
    "def false_chunk_sizes(bool_array):\n",
    "    # Ensure the input is a numpy array\n",
    "    bool_array = np.asarray(bool_array)\n",
    "\n",
    "    # Find where the transitions occur\n",
    "    transitions = np.diff(bool_array)\n",
    "    # Identify the start indices of False chunks\n",
    "    false_starts = np.where(transitions == -1)[0] + 1\n",
    "    # Identify the end indices of False chunks\n",
    "    false_ends = np.where(transitions == 1)[0]\n",
    "\n",
    "    # Handle the case when the array starts with False\n",
    "    if bool_array[0] == False:\n",
    "        false_starts = np.insert(false_starts, 0, 0)\n",
    "\n",
    "    # Handle the case when the array ends with False\n",
    "    if bool_array[-1] == False:\n",
    "        false_ends = np.append(false_ends, len(bool_array) - 1)\n",
    "\n",
    "    # Calculate the sizes of the false chunks\n",
    "    false_sizes = false_ends - false_starts + 1\n",
    "\n",
    "    return false_sizes.tolist()\n",
    "\n",
    "input_array = np.array([True, False, False, False, True, True, False, False, True])\n",
    "output = false_chunk_sizes(input_array)\n",
    "print(output)  # Output will be [3, 2]\n"
   ]
  },
  {
   "cell_type": "code",
   "execution_count": 42,
   "metadata": {},
   "outputs": [
    {
     "ename": "TypeError",
     "evalue": "append() missing 1 required positional argument: 'values'",
     "output_type": "error",
     "traceback": [
      "\u001b[1;31m---------------------------------------------------------------------------\u001b[0m",
      "\u001b[1;31mTypeError\u001b[0m                                 Traceback (most recent call last)",
      "Cell \u001b[1;32mIn[42], line 12\u001b[0m\n\u001b[0;32m     10\u001b[0m \u001b[38;5;66;03m# Handle the case when the array ends with False\u001b[39;00m\n\u001b[0;32m     11\u001b[0m \u001b[38;5;28;01mif\u001b[39;00m input_array[\u001b[38;5;241m-\u001b[39m\u001b[38;5;241m1\u001b[39m] \u001b[38;5;241m==\u001b[39m \u001b[38;5;28;01mFalse\u001b[39;00m:\n\u001b[1;32m---> 12\u001b[0m     changes \u001b[38;5;241m=\u001b[39m \u001b[43mnp\u001b[49m\u001b[38;5;241;43m.\u001b[39;49m\u001b[43mappend\u001b[49m\u001b[43m(\u001b[49m\u001b[43mchanges\u001b[49m\u001b[43m)\u001b[49m\n\u001b[0;32m     14\u001b[0m \u001b[38;5;28mprint\u001b[39m(diffs)\n\u001b[0;32m     15\u001b[0m \u001b[38;5;28mprint\u001b[39m(changes)\n",
      "\u001b[1;31mTypeError\u001b[0m: append() missing 1 required positional argument: 'values'"
     ]
    }
   ],
   "source": [
    "input_array = np.array([False, False, True, False, False, False, True, True, False, False, True, False])\n",
    "\n",
    "diffs = np.diff(input_array)\n",
    "changes = np.where(diffs == True)[0] + 1\n",
    "\n",
    "# edge cases - count chunks at start or end of input\n",
    "if input_array[0] == False:\n",
    "    changes = np.insert(changes, 0, 0)\n",
    "\n",
    "# Handle the case when the array ends with False\n",
    "if input_array[-1] == False:\n",
    "    changes = np.append(changes, len(input_array))\n",
    "\n",
    "print(diffs)\n",
    "print(changes)\n",
    "\n",
    "# every even index is the start of a false chunk\n",
    "# every odd index is the end of a false chunk (exclusive)\n",
    "\n",
    "# return odd - even elements (those are the sizes)\n",
    "\n",
    "sizes = changes[1::2] - changes[::2]\n",
    "print(sizes)\n"
   ]
  },
  {
   "cell_type": "code",
   "execution_count": 15,
   "metadata": {},
   "outputs": [
    {
     "name": "stdout",
     "output_type": "stream",
     "text": [
      "[ 0  3  5  6  9 10 11]\n",
      "[0, 2, 1, 0, 2, 0, 0]\n"
     ]
    }
   ],
   "source": [
    "def vectorized_distances_to_false(bool_array):\n",
    "    # Find the indices where the array is False\n",
    "    false_indices = np.where(~bool_array)[0]\n",
    "    \n",
    "    print(false_indices)\n",
    "    \n",
    "    # Calculate the distances between consecutive False indices\n",
    "    if len(false_indices) == 0:\n",
    "        return []  # Return an empty list if there are no False values\n",
    "\n",
    "    # Distance to first False (for completeness if you need it, uncomment below line)\n",
    "    initial_distance = false_indices[0] + 1 if false_indices[0] != 0 else 0\n",
    "\n",
    "    # Distances between consecutive Falses\n",
    "    distances = np.diff(false_indices) - 1\n",
    "\n",
    "    # Include distance from the start to the first False if it starts with True\n",
    "    if false_indices[0] == 0:\n",
    "        distances = np.insert(distances, 0, false_indices[0])\n",
    "\n",
    "    return distances.tolist()\n",
    "\n",
    "test_arr = np.array([False, True, True, False, True, False, False, True, True, False, False, False, True])\n",
    "print(vectorized_distances_to_false(test_arr))\n"
   ]
  },
  {
   "cell_type": "code",
   "execution_count": 22,
   "metadata": {},
   "outputs": [
    {
     "data": {
      "text/plain": [
       "array([False, False,  True, False, False,  True,  True, False,  True,\n",
       "        True])"
      ]
     },
     "execution_count": 22,
     "metadata": {},
     "output_type": "execute_result"
    }
   ],
   "source": [
    "color_strip = np.array([\n",
    "    [[1, 1, 1], [1, 1, 1], [1, 1, 1], [4, 4, 4], [4, 4, 4], [4, 4, 4], [4, 4, 4], [4, 4, 4], [4, 4, 4], [7, 7, 7], [8, 8, 8]],\n",
    "    [[9, 9, 9], [9, 9, 9], [9, 9, 9], [12, 12, 12], [12, 12, 12], [12, 12, 12], [12, 13, 12], [12, 12, 12], [12, 12, 12], [15, 15, 15], [16, 16, 16]]\n",
    "])\n",
    "\n",
    "np.any(color_strip[:, 1:] != color_strip[:, :-1], axis=(0, 2))"
   ]
  },
  {
   "cell_type": "code",
   "execution_count": 38,
   "metadata": {},
   "outputs": [
    {
     "name": "stdout",
     "output_type": "stream",
     "text": [
      "[False False  True False False  True  True False  True  True]\n",
      "[2 2 0 1 0]\n"
     ]
    }
   ],
   "source": [
    "def distances_to_false(bool_array: np.ndarray) -> np.ndarray:\n",
    "    \"\"\"\n",
    "    Given a 1D array of booleans, returns a 1D array of integers representing the distances between\n",
    "    consecutive False values. If there are no False values, returns an empty array.\n",
    "    \"\"\"\n",
    "    # Find the indices where the array is False\n",
    "    false_indices = np.where(bool_array)[0]\n",
    "    \n",
    "    # Calculate the distances between consecutive False indices\n",
    "    if len(false_indices) == 0:\n",
    "        return np.array([])  # Return an empty list if there are no False values\n",
    "\n",
    "    # Distances between consecutive Falses\n",
    "    distances = np.diff(false_indices) - 1\n",
    "\n",
    "    # Include distance from the start to the first False if it starts with True\n",
    "    if false_indices[0] != 0:\n",
    "        distances = np.insert(distances, 0, false_indices[0])\n",
    "\n",
    "    return distances\n",
    "\n",
    "color_strip = np.array([\n",
    "    [[1, 1, 1], [1, 1, 1], [1, 1, 1], [4, 4, 4], [4, 4, 4], [4, 4, 4], [4, 4, 4], [4, 4, 4], [4, 4, 4], [7, 7, 7], [8, 8, 8]],\n",
    "    [[9, 9, 9], [9, 9, 9], [9, 9, 9], [12, 12, 12], [12, 12, 12], [12, 12, 12], [12, 13, 12], [12, 12, 12], [12, 12, 12], [15, 15, 15], [16, 16, 16]]\n",
    "])\n",
    "\n",
    "#colors_diffs = np.any(color_strip[:, 1:] == color_strip[:, :-1], axis=(0, 2))\n",
    "colors_diffs = np.any(color_strip[:, 1:] != color_strip[:, :-1], axis=(0, 2))\n",
    "\n",
    "dists_to_diffs = distances_to_false(colors_diffs)\n",
    "\n",
    "print(colors_diffs)\n",
    "print(dists_to_diffs)"
   ]
  },
  {
   "cell_type": "code",
   "execution_count": 32,
   "metadata": {},
   "outputs": [
    {
     "ename": "ValueError",
     "evalue": "The truth value of an array with more than one element is ambiguous. Use a.any() or a.all()",
     "output_type": "error",
     "traceback": [
      "\u001b[1;31m---------------------------------------------------------------------------\u001b[0m",
      "\u001b[1;31mValueError\u001b[0m                                Traceback (most recent call last)",
      "Cell \u001b[1;32mIn[32], line 3\u001b[0m\n\u001b[0;32m      1\u001b[0m c \u001b[38;5;241m=\u001b[39m np\u001b[38;5;241m.\u001b[39marray([\u001b[38;5;241m1\u001b[39m, \u001b[38;5;241m0\u001b[39m, \u001b[38;5;241m0\u001b[39m, \u001b[38;5;241m1\u001b[39m, \u001b[38;5;241m1\u001b[39m])\n\u001b[1;32m----> 3\u001b[0m \u001b[38;5;129;43;01mnot\u001b[39;49;00m\u001b[43m \u001b[49m\u001b[43mc\u001b[49m\n",
      "\u001b[1;31mValueError\u001b[0m: The truth value of an array with more than one element is ambiguous. Use a.any() or a.all()"
     ]
    }
   ],
   "source": [
    "c = np.array([1, 0, 0, 1, 1])\n",
    "\n",
    "not c\n"
   ]
  },
  {
   "cell_type": "code",
   "execution_count": 4,
   "metadata": {},
   "outputs": [
    {
     "name": "stdout",
     "output_type": "stream",
     "text": [
      "(9, 'e')\n"
     ]
    }
   ],
   "source": [
    "def find_last_element(ordered_list, n):\n",
    "    \"\"\"\n",
    "    Performs binary search to find the last tuple where the first element x is less than n.\n",
    "    \n",
    "    Parameters:\n",
    "    ordered_list (list of tuples): A list of 2-tuples sorted by the first element in ascending order.\n",
    "    n (int or float): The number to compare the first element of tuples against.\n",
    "    \n",
    "    Returns:\n",
    "    tuple: The last tuple where the first element is less than n, or None if no such element exists.\n",
    "    \"\"\"\n",
    "    low, high = 0, len(ordered_list) - 1\n",
    "    result = None\n",
    "    \n",
    "    while low <= high:\n",
    "        mid = (low + high) // 2\n",
    "        if ordered_list[mid][0] < n:\n",
    "            result = ordered_list[mid]  # Found a valid element, save it.\n",
    "            low = mid + 1  # Try to find a more right-hand element with x still less than n.\n",
    "        else:\n",
    "            high = mid - 1  # Reduce the high boundary to skip elements not satisfying the condition.\n",
    "    \n",
    "    return result\n",
    "\n",
    "# Example usage:\n",
    "ordered_list = [(1, 'a'), (3, 'b'), (5, 'c'), (7, 'd'), (9, 'e')]\n",
    "n = 12\n",
    "print(find_last_element(ordered_list, n))  # Expected output: (5, 'c')\n"
   ]
  },
  {
   "cell_type": "code",
   "execution_count": 4,
   "metadata": {},
   "outputs": [
    {
     "data": {
      "text/plain": [
       "array([[[255, 255, 255, 255],\n",
       "        [  2,   2,   2,   2],\n",
       "        [  3,   3,   3,   3],\n",
       "        [  4,   4,   4,   4]],\n",
       "\n",
       "       [[  5,   5,   5,   5],\n",
       "        [255, 255, 255, 255],\n",
       "        [  7,   7,   7,   7],\n",
       "        [  8,   8,   8,   8]],\n",
       "\n",
       "       [[  9,   9,   9,   9],\n",
       "        [ 10,  10,  10,  10],\n",
       "        [255, 255, 255, 255],\n",
       "        [ 12,  12,  12,  12]],\n",
       "\n",
       "       [[ 13,  13,  13,  13],\n",
       "        [ 14,  14,  14,  14],\n",
       "        [ 15,  15,  15,  15],\n",
       "        [255, 255, 255, 255]]])"
      ]
     },
     "execution_count": 4,
     "metadata": {},
     "output_type": "execute_result"
    }
   ],
   "source": [
    "from skimage.draw import line\n",
    "\n",
    "def draw_line(image: np.ndarray, pos1: tuple, pos2: tuple, color) -> None:\n",
    "    \"\"\"\n",
    "    draw a fully opaque line of color `color` on the image from pos1= (x1, y1) to pos2= (x2, y2).\n",
    "    modifies `image` in place, does not return anything.\n",
    "    \"\"\"\n",
    "    \n",
    "    x1, y1 = pos1\n",
    "    x2, y2 = pos2\n",
    "    \n",
    "    # Get the coordinates of the line\n",
    "    rr, cc = line(y1, x1, y2, x2)\n",
    "\n",
    "    # Clip the coordinates to be within the image dimensions\n",
    "    rr = np.clip(rr, 0, image.shape[0] - 1)\n",
    "    cc = np.clip(cc, 0, image.shape[1] - 1)\n",
    "\n",
    "    # Draw the white line (255, 255, 255) on the image\n",
    "    image[rr, cc] = color\n",
    "    \n",
    "draw_line(a2, (0, 0), (3, 3), 255)\n",
    "a2"
   ]
  },
  {
   "cell_type": "code",
   "execution_count": 8,
   "metadata": {},
   "outputs": [
    {
     "data": {
      "text/plain": [
       "(array([0, 1, 2, 3, 4, 5, 6, 7, 8], dtype=int64),\n",
       " array([0, 0, 1, 1, 2, 2, 2, 3, 3], dtype=int64))"
      ]
     },
     "execution_count": 8,
     "metadata": {},
     "output_type": "execute_result"
    }
   ],
   "source": [
    "from skimage.draw import line\n",
    "\n",
    "y1 = 0\n",
    "x1 = 0\n",
    "y2 = 8\n",
    "x2 = 3\n",
    "\n",
    "rr, cc = line(y1, x1, y2, x2)\n",
    "\n",
    "rr, cc"
   ]
  },
  {
   "cell_type": "code",
   "execution_count": 12,
   "metadata": {},
   "outputs": [
    {
     "name": "stdout",
     "output_type": "stream",
     "text": [
      "[[[  0   0   0]\n",
      "  [  0   0   0]\n",
      "  [  0   0   0]\n",
      "  [  0   0   0]\n",
      "  [  0   0   0]\n",
      "  [  0   0   0]]\n",
      "\n",
      " [[  0   0   0]\n",
      "  [  0   0   0]\n",
      "  [  0   0   0]\n",
      "  [  0   0   0]\n",
      "  [  0   0   0]\n",
      "  [  0   0   0]]\n",
      "\n",
      " [[255 255 255]\n",
      "  [  0   0   0]\n",
      "  [  0   0   0]\n",
      "  [  0   0   0]\n",
      "  [  0   0   0]\n",
      "  [  0   0   0]]\n",
      "\n",
      " [[255 255 255]\n",
      "  [  0   0   0]\n",
      "  [  0   0   0]\n",
      "  [  0   0   0]\n",
      "  [  0   0   0]\n",
      "  [  0   0   0]]\n",
      "\n",
      " [[  0   0   0]\n",
      "  [255 255 255]\n",
      "  [255 255 255]\n",
      "  [  0   0   0]\n",
      "  [  0   0   0]\n",
      "  [  0   0   0]]\n",
      "\n",
      " [[  0   0   0]\n",
      "  [  0   0   0]\n",
      "  [  0   0   0]\n",
      "  [255 255 255]\n",
      "  [  0   0   0]\n",
      "  [  0   0   0]]]\n"
     ]
    }
   ],
   "source": [
    "import numpy as np\n",
    "from skimage.draw import line\n",
    "\n",
    "def draw_white_line(image, x1, y1, x2, y2):\n",
    "    \"\"\"\n",
    "    Draws a white line on the given 2D numpy array of RGB values.\n",
    "\n",
    "    Parameters:\n",
    "        image (numpy.ndarray): 2D numpy array of RGB values.\n",
    "        x1, y1 (int): Coordinates of the starting point.\n",
    "        x2, y2 (int): Coordinates of the ending point.\n",
    "\n",
    "    Returns:\n",
    "        numpy.ndarray: Image with the white line drawn on it.\n",
    "    \"\"\"\n",
    "    # Ensure the image is a numpy array\n",
    "    image = np.asarray(image, dtype=np.uint8)\n",
    "\n",
    "    # Get the coordinates of the line\n",
    "    rr, cc = line(y1, x1, y2, x2)\n",
    "\n",
    "    # Clip the coordinates to be within the image dimensions\n",
    "    rr = np.clip(rr, 0, image.shape[0] - 1)\n",
    "    cc = np.clip(cc, 0, image.shape[1] - 1)\n",
    "\n",
    "    # Draw the white line (255, 255, 255) on the image\n",
    "    image[rr, cc] = [255, 255, 255]\n",
    "\n",
    "    return image\n",
    "\n",
    "# Example usage\n",
    "image = np.zeros((6, 6, 3), dtype=np.uint8)\n",
    "x1, y1 = -2, 2\n",
    "x2, y2 = 3, 5\n",
    "\n",
    "result_image = draw_white_line(image, x1, y1, x2, y2)\n",
    "print(image)\n"
   ]
  },
  {
   "cell_type": "code",
   "execution_count": 7,
   "metadata": {},
   "outputs": [
    {
     "data": {
      "text/plain": [
       "array([[[ 1],\n",
       "        [ 2],\n",
       "        [ 3],\n",
       "        [ 4]],\n",
       "\n",
       "       [[ 5],\n",
       "        [ 6],\n",
       "        [ 7],\n",
       "        [ 8]],\n",
       "\n",
       "       [[ 9],\n",
       "        [10],\n",
       "        [11],\n",
       "        [12]],\n",
       "\n",
       "       [[13],\n",
       "        [14],\n",
       "        [15],\n",
       "        [16]]])"
      ]
     },
     "execution_count": 7,
     "metadata": {},
     "output_type": "execute_result"
    }
   ],
   "source": [
    "a2[..., 3][..., None]"
   ]
  },
  {
   "cell_type": "code",
   "execution_count": 1,
   "metadata": {},
   "outputs": [
    {
     "ename": "NameError",
     "evalue": "name 'np' is not defined",
     "output_type": "error",
     "traceback": [
      "\u001b[1;31m---------------------------------------------------------------------------\u001b[0m",
      "\u001b[1;31mNameError\u001b[0m                                 Traceback (most recent call last)",
      "Cell \u001b[1;32mIn[1], line 1\u001b[0m\n\u001b[1;32m----> 1\u001b[0m \u001b[38;5;28;01mdef\u001b[39;00m \u001b[38;5;21mblend_colors_with_weights\u001b[39m(weights: \u001b[43mnp\u001b[49m\u001b[38;5;241m.\u001b[39mndarray, color1: np\u001b[38;5;241m.\u001b[39mndarray, color2: np\u001b[38;5;241m.\u001b[39mndarray) \u001b[38;5;241m-\u001b[39m\u001b[38;5;241m>\u001b[39m np\u001b[38;5;241m.\u001b[39mndarray:\n\u001b[0;32m      2\u001b[0m     \u001b[38;5;66;03m# Ensure colors are numpy arrays with shape (3,)\u001b[39;00m\n\u001b[0;32m      3\u001b[0m     color1 \u001b[38;5;241m=\u001b[39m np\u001b[38;5;241m.\u001b[39marray(color1)\n\u001b[0;32m      4\u001b[0m     color2 \u001b[38;5;241m=\u001b[39m np\u001b[38;5;241m.\u001b[39marray(color2)\n",
      "\u001b[1;31mNameError\u001b[0m: name 'np' is not defined"
     ]
    }
   ],
   "source": [
    "def blend_colors_with_weights(weights: np.ndarray, color1: np.ndarray, color2: np.ndarray) -> np.ndarray:\n",
    "    # Ensure colors are numpy arrays with shape (3,)\n",
    "    color1 = np.array(color1)\n",
    "    color2 = np.array(color2)\n",
    "    \n",
    "    # Ensure weights is a 2D numpy array\n",
    "    assert weights.ndim == 2, \"Weights must be a 2D numpy array\"\n",
    "    \n",
    "    # Reshape the weights array to be compatible with the color arrays\n",
    "    weights = weights[:, :, np.newaxis]\n",
    "    \n",
    "    # Blend the colors using the weights\n",
    "    blended_colors = (1 - weights) * color1 + weights * color2\n",
    "    \n",
    "    # Convert the result to integer type if needed\n",
    "    blended_colors = blended_colors.astype(int)\n",
    "    \n",
    "    return blended_colors\n",
    "\n",
    "# Example usage\n",
    "weights = np.random.rand(4, 4)  # 2D array of weights between 0 and 1\n",
    "color1 = np.array([255, 0, 0])  # Red\n",
    "color2 = np.array([0, 0, 255])  # Blue\n",
    "\n",
    "blended = blend_colors_with_weights(weights, color1, color2)\n",
    "\n",
    "print(\"Weights array (4x4):\")\n",
    "print(weights)\n",
    "print(\"\\nBlended colors array (4x4x3):\")\n",
    "print(blended)"
   ]
  },
  {
   "cell_type": "code",
   "execution_count": 5,
   "metadata": {},
   "outputs": [
    {
     "name": "stdout",
     "output_type": "stream",
     "text": [
      "9 27.1\n"
     ]
    }
   ],
   "source": [
    "camera_left = 27.5\n",
    "\n",
    "wave_pivot_points = [\n",
    "    1.2,\n",
    "    1.4,\n",
    "    4.5,\n",
    "    6.7,\n",
    "    8.9,\n",
    "    11.5,\n",
    "    24.2,\n",
    "    24.6, \n",
    "    26.7, \n",
    "    27.1,\n",
    "    27.5, \n",
    "    30.3,\n",
    "    45.6,\n",
    "    68.8,\n",
    "]\n",
    "\n",
    "leftmost_pivot_idx = None\n",
    "# binary search for the leftmost pivot that is less than the camera_left\n",
    "start, end = 0, len(wave_pivot_points) - 1\n",
    "while start <= end:\n",
    "    leftmost_pivot_idx = (start + end) // 2\n",
    "    if wave_pivot_points[leftmost_pivot_idx] < camera_left:\n",
    "        start = leftmost_pivot_idx + 1\n",
    "    else:\n",
    "        end = leftmost_pivot_idx - 1\n",
    "        \n",
    "print(leftmost_pivot_idx, wave_pivot_points[leftmost_pivot_idx])"
   ]
  },
  {
   "cell_type": "code",
   "execution_count": 26,
   "metadata": {},
   "outputs": [
    {
     "data": {
      "text/plain": [
       "array([[[ 2.55,  2.55,  2.55],\n",
       "        [ 5.1 ,  5.1 ,  5.1 ],\n",
       "        [ 7.65,  7.65,  7.65],\n",
       "        [10.2 , 10.2 , 10.2 ]],\n",
       "\n",
       "       [[12.75, 12.75, 12.75],\n",
       "        [15.3 , 15.3 , 15.3 ],\n",
       "        [17.85, 17.85, 17.85],\n",
       "        [20.4 , 20.4 , 20.4 ]],\n",
       "\n",
       "       [[22.95, 22.95, 22.95],\n",
       "        [25.5 , 25.5 , 25.5 ],\n",
       "        [28.05, 28.05, 28.05],\n",
       "        [30.6 , 30.6 , 30.6 ]],\n",
       "\n",
       "       [[33.15, 33.15, 33.15],\n",
       "        [35.7 , 35.7 , 35.7 ],\n",
       "        [38.25, 38.25, 38.25],\n",
       "        [40.8 , 40.8 , 40.8 ]]])"
      ]
     },
     "execution_count": 26,
     "metadata": {},
     "output_type": "execute_result"
    }
   ],
   "source": [
    "color1 = (0, 0, 0)\n",
    "color2 = (255, 255, 255)\n",
    "\n",
    "color1_to_color2_weights = np.array([\n",
    "    [0.01, 0.02, 0.03, 0.04],\n",
    "    [0.05, 0.06, 0.07, 0.08],\n",
    "    [0.09, 0.10, 0.11, 0.12],\n",
    "    [0.13, 0.14, 0.15, 0.16]\n",
    "])\n",
    "\n",
    "color1_to_color2_weights = color1_to_color2_weights[:, :, np.newaxis]\n",
    "\n",
    "blended_colors = (1 - color1_to_color2_weights) * color1 + color1_to_color2_weights * color2\n",
    "blended_colors"
   ]
  },
  {
   "cell_type": "code",
   "execution_count": 8,
   "metadata": {},
   "outputs": [
    {
     "data": {
      "text/plain": [
       "array([[[ 1,  1,  1],\n",
       "        [ 2,  2,  2],\n",
       "        [ 3,  3,  3],\n",
       "        [ 4,  4,  4],\n",
       "        [ 0,  0,  0]],\n",
       "\n",
       "       [[ 5,  5,  5],\n",
       "        [ 6,  6,  6],\n",
       "        [ 7,  7,  7],\n",
       "        [ 8,  8,  8],\n",
       "        [ 0,  0,  0]],\n",
       "\n",
       "       [[ 9,  9,  9],\n",
       "        [10, 10, 10],\n",
       "        [11, 11, 11],\n",
       "        [12, 12, 12],\n",
       "        [ 0,  0,  0]],\n",
       "\n",
       "       [[13, 13, 13],\n",
       "        [14, 14, 14],\n",
       "        [15, 15, 15],\n",
       "        [16, 16, 16],\n",
       "        [ 0,  0,  0]]])"
      ]
     },
     "execution_count": 8,
     "metadata": {},
     "output_type": "execute_result"
    }
   ],
   "source": [
    "np.pad(a2, ((0, 0), (0, 1), (0, 0)), mode='constant', constant_values=0)"
   ]
  },
  {
   "cell_type": "code",
   "execution_count": null,
   "metadata": {},
   "outputs": [],
   "source": [
    "# this is copied RIGHT from chatgpt and im NOT afraid to say it\n",
    "\n",
    "import numpy as np\n",
    "\n",
    "def blend_colors(original: np.ndarray, new: np.ndarray) -> np.ndarray:\n",
    "    # Ensure the original array has 3 channels and the new array has 4 channels\n",
    "    assert original.shape[:2] == new.shape[:2], \"The first two dimensions must match\"\n",
    "    assert original.shape[2] == 3, \"The original array must have 3 channels\"\n",
    "    assert new.shape[2] == 4, \"The new array must have 4 channels\"\n",
    "\n",
    "    # Extract RGB and alpha components\n",
    "    new_rgb = new[..., :3]\n",
    "    new_alpha = new[..., 3] / 255.0\n",
    "\n",
    "    # Perform the blending\n",
    "    blended_rgb = (new_rgb * new_alpha[..., np.newaxis] + \n",
    "                   original * (1 - new_alpha[..., np.newaxis]))\n",
    "\n",
    "    # Convert to integer type\n",
    "    blended_rgb = blended_rgb.astype(int)\n",
    "\n",
    "    return blended_rgb\n",
    "\n",
    "# Example usage\n",
    "original = np.random.randint(0, 256, (4, 4, 3), dtype=int)\n",
    "new = np.random.randint(0, 256, (4, 4, 4), dtype=int)\n",
    "\n",
    "print(\"Original array (4x4x3):\")\n",
    "print(original)\n",
    "print(\"\\nNew array (4x4x4):\")\n",
    "print(new)\n",
    "\n",
    "blended = blend_colors(original, new)\n",
    "print(\"\\nBlended array (4x4x3):\")\n",
    "print(blended)\n"
   ]
  }
 ],
 "metadata": {
  "kernelspec": {
   "display_name": "Python 3.7.0 64-bit",
   "language": "python",
   "name": "python3"
  },
  "language_info": {
   "codemirror_mode": {
    "name": "ipython",
    "version": 3
   },
   "file_extension": ".py",
   "mimetype": "text/x-python",
   "name": "python",
   "nbconvert_exporter": "python",
   "pygments_lexer": "ipython3",
   "version": "3.12.1"
  },
  "vscode": {
   "interpreter": {
    "hash": "5109d816b82be14675a6b11f8e0f0d2e80f029176ed3710d54e125caa8520dfd"
   }
  }
 },
 "nbformat": 4,
 "nbformat_minor": 2
}
