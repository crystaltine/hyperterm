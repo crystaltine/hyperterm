{
 "cells": [
  {
   "cell_type": "code",
   "execution_count": 1,
   "metadata": {},
   "outputs": [],
   "source": [
    "import numpy as np"
   ]
  },
  {
   "cell_type": "code",
   "execution_count": 2,
   "metadata": {},
   "outputs": [],
   "source": [
    "a = np.array([\n",
    "    [1, 2, 3, 4],\n",
    "    [5, 6, 7, 8],\n",
    "    [9, 10, 11, 12],\n",
    "    [13, 14, 15, 16]\n",
    "])\n",
    "\n",
    "a2 = np.array([\n",
    "    [[1,1,1,1], [2,2,2,2], [3,3,3,3], [4,4,4,4]],\n",
    "    [[5,5,5,5], [6,6,6,6], [7,7,7,7], [8,8,8,8]],\n",
    "    [[9,9,9,9], [10,10,10,10], [11,11,11,11], [12,12,12,12]],\n",
    "    [[13,13,13,13], [14,14,14,14], [15,15,15,15], [16,16,16,16]],\n",
    "])"
   ]
  },
  {
   "cell_type": "code",
   "execution_count": 3,
   "metadata": {},
   "outputs": [
    {
     "data": {
      "text/plain": [
       "array([[[ 1,  1,  1,  1],\n",
       "        [ 2,  2,  2,  2],\n",
       "        [ 3,  3,  3,  3],\n",
       "        [ 4,  4,  4,  4]],\n",
       "\n",
       "       [[ 5,  5,  5,  5],\n",
       "        [ 6,  6,  6,  6],\n",
       "        [ 7,  7,  7,  7],\n",
       "        [ 8,  8,  8,  8]],\n",
       "\n",
       "       [[ 9,  9,  9,  9],\n",
       "        [10, 10, 10, 10],\n",
       "        [11, 11, 11, 11],\n",
       "        [12, 12, 12, 12]],\n",
       "\n",
       "       [[13, 13, 13, 13],\n",
       "        [14, 14, 14, 14],\n",
       "        [15, 15, 15, 15],\n",
       "        [16, 16, 16, 16]]])"
      ]
     },
     "execution_count": 3,
     "metadata": {},
     "output_type": "execute_result"
    }
   ],
   "source": [
    "from skimage.draw import line_aa\n",
    "\n",
    "new_color = (255, 255, 255)\n",
    "l = line_aa(1, 2, 3, 0)\n",
    "\n",
    "# combine colors on mask\n"
   ]
  },
  {
   "cell_type": "code",
   "execution_count": 7,
   "metadata": {},
   "outputs": [
    {
     "data": {
      "text/plain": [
       "array([[[ 1],\n",
       "        [ 2],\n",
       "        [ 3],\n",
       "        [ 4]],\n",
       "\n",
       "       [[ 5],\n",
       "        [ 6],\n",
       "        [ 7],\n",
       "        [ 8]],\n",
       "\n",
       "       [[ 9],\n",
       "        [10],\n",
       "        [11],\n",
       "        [12]],\n",
       "\n",
       "       [[13],\n",
       "        [14],\n",
       "        [15],\n",
       "        [16]]])"
      ]
     },
     "execution_count": 7,
     "metadata": {},
     "output_type": "execute_result"
    }
   ],
   "source": [
    "a2[..., 3][..., None]"
   ]
  },
  {
   "cell_type": "code",
   "execution_count": 15,
   "metadata": {},
   "outputs": [
    {
     "name": "stdout",
     "output_type": "stream",
     "text": [
      "Weights array (4x4):\n",
      "[[0.81822702 0.99193731 0.27509481 0.09746435]\n",
      " [0.16537551 0.47399247 0.16797415 0.15813634]\n",
      " [0.28713503 0.40933462 0.8707105  0.43175981]\n",
      " [0.45985526 0.13158388 0.26332139 0.86702887]]\n",
      "\n",
      "Blended colors array (4x4x3):\n",
      "[[[ 46   0 208]\n",
      "  [  2   0 252]\n",
      "  [184   0  70]\n",
      "  [230   0  24]]\n",
      "\n",
      " [[212   0  42]\n",
      "  [134   0 120]\n",
      "  [212   0  42]\n",
      "  [214   0  40]]\n",
      "\n",
      " [[181   0  73]\n",
      "  [150   0 104]\n",
      "  [ 32   0 222]\n",
      "  [144   0 110]]\n",
      "\n",
      " [[137   0 117]\n",
      "  [221   0  33]\n",
      "  [187   0  67]\n",
      "  [ 33   0 221]]]\n"
     ]
    }
   ],
   "source": [
    "def blend_colors_with_weights(weights: np.ndarray, color1: np.ndarray, color2: np.ndarray) -> np.ndarray:\n",
    "    # Ensure colors are numpy arrays with shape (3,)\n",
    "    color1 = np.array(color1)\n",
    "    color2 = np.array(color2)\n",
    "    \n",
    "    # Ensure weights is a 2D numpy array\n",
    "    assert weights.ndim == 2, \"Weights must be a 2D numpy array\"\n",
    "    \n",
    "    # Reshape the weights array to be compatible with the color arrays\n",
    "    weights = weights[:, :, np.newaxis]\n",
    "    \n",
    "    # Blend the colors using the weights\n",
    "    blended_colors = (1 - weights) * color1 + weights * color2\n",
    "    \n",
    "    # Convert the result to integer type if needed\n",
    "    blended_colors = blended_colors.astype(int)\n",
    "    \n",
    "    return blended_colors\n",
    "\n",
    "# Example usage\n",
    "weights = np.random.rand(4, 4)  # 2D array of weights between 0 and 1\n",
    "color1 = np.array([255, 0, 0])  # Red\n",
    "color2 = np.array([0, 0, 255])  # Blue\n",
    "\n",
    "blended = blend_colors_with_weights(weights, color1, color2)\n",
    "\n",
    "print(\"Weights array (4x4):\")\n",
    "print(weights)\n",
    "print(\"\\nBlended colors array (4x4x3):\")\n",
    "print(blended)"
   ]
  },
  {
   "cell_type": "code",
   "execution_count": 26,
   "metadata": {},
   "outputs": [
    {
     "data": {
      "text/plain": [
       "array([[[ 2.55,  2.55,  2.55],\n",
       "        [ 5.1 ,  5.1 ,  5.1 ],\n",
       "        [ 7.65,  7.65,  7.65],\n",
       "        [10.2 , 10.2 , 10.2 ]],\n",
       "\n",
       "       [[12.75, 12.75, 12.75],\n",
       "        [15.3 , 15.3 , 15.3 ],\n",
       "        [17.85, 17.85, 17.85],\n",
       "        [20.4 , 20.4 , 20.4 ]],\n",
       "\n",
       "       [[22.95, 22.95, 22.95],\n",
       "        [25.5 , 25.5 , 25.5 ],\n",
       "        [28.05, 28.05, 28.05],\n",
       "        [30.6 , 30.6 , 30.6 ]],\n",
       "\n",
       "       [[33.15, 33.15, 33.15],\n",
       "        [35.7 , 35.7 , 35.7 ],\n",
       "        [38.25, 38.25, 38.25],\n",
       "        [40.8 , 40.8 , 40.8 ]]])"
      ]
     },
     "execution_count": 26,
     "metadata": {},
     "output_type": "execute_result"
    }
   ],
   "source": [
    "color1 = (0, 0, 0)\n",
    "color2 = (255, 255, 255)\n",
    "\n",
    "color1_to_color2_weights = np.array([\n",
    "    [0.01, 0.02, 0.03, 0.04],\n",
    "    [0.05, 0.06, 0.07, 0.08],\n",
    "    [0.09, 0.10, 0.11, 0.12],\n",
    "    [0.13, 0.14, 0.15, 0.16]\n",
    "])\n",
    "\n",
    "color1_to_color2_weights = color1_to_color2_weights[:, :, np.newaxis]\n",
    "\n",
    "blended_colors = (1 - color1_to_color2_weights) * color1 + color1_to_color2_weights * color2\n",
    "blended_colors"
   ]
  },
  {
   "cell_type": "code",
   "execution_count": 8,
   "metadata": {},
   "outputs": [
    {
     "data": {
      "text/plain": [
       "array([[[ 1,  1,  1],\n",
       "        [ 2,  2,  2],\n",
       "        [ 3,  3,  3],\n",
       "        [ 4,  4,  4],\n",
       "        [ 0,  0,  0]],\n",
       "\n",
       "       [[ 5,  5,  5],\n",
       "        [ 6,  6,  6],\n",
       "        [ 7,  7,  7],\n",
       "        [ 8,  8,  8],\n",
       "        [ 0,  0,  0]],\n",
       "\n",
       "       [[ 9,  9,  9],\n",
       "        [10, 10, 10],\n",
       "        [11, 11, 11],\n",
       "        [12, 12, 12],\n",
       "        [ 0,  0,  0]],\n",
       "\n",
       "       [[13, 13, 13],\n",
       "        [14, 14, 14],\n",
       "        [15, 15, 15],\n",
       "        [16, 16, 16],\n",
       "        [ 0,  0,  0]]])"
      ]
     },
     "execution_count": 8,
     "metadata": {},
     "output_type": "execute_result"
    }
   ],
   "source": [
    "np.pad(a2, ((0, 0), (0, 1), (0, 0)), mode='constant', constant_values=0)"
   ]
  },
  {
   "cell_type": "code",
   "execution_count": null,
   "metadata": {},
   "outputs": [],
   "source": [
    "# this is copied RIGHT from chatgpt and im NOT afraid to say it\n",
    "\n",
    "import numpy as np\n",
    "\n",
    "def blend_colors(original: np.ndarray, new: np.ndarray) -> np.ndarray:\n",
    "    # Ensure the original array has 3 channels and the new array has 4 channels\n",
    "    assert original.shape[:2] == new.shape[:2], \"The first two dimensions must match\"\n",
    "    assert original.shape[2] == 3, \"The original array must have 3 channels\"\n",
    "    assert new.shape[2] == 4, \"The new array must have 4 channels\"\n",
    "\n",
    "    # Extract RGB and alpha components\n",
    "    new_rgb = new[..., :3]\n",
    "    new_alpha = new[..., 3] / 255.0\n",
    "\n",
    "    # Perform the blending\n",
    "    blended_rgb = (new_rgb * new_alpha[..., np.newaxis] + \n",
    "                   original * (1 - new_alpha[..., np.newaxis]))\n",
    "\n",
    "    # Convert to integer type\n",
    "    blended_rgb = blended_rgb.astype(int)\n",
    "\n",
    "    return blended_rgb\n",
    "\n",
    "# Example usage\n",
    "original = np.random.randint(0, 256, (4, 4, 3), dtype=int)\n",
    "new = np.random.randint(0, 256, (4, 4, 4), dtype=int)\n",
    "\n",
    "print(\"Original array (4x4x3):\")\n",
    "print(original)\n",
    "print(\"\\nNew array (4x4x4):\")\n",
    "print(new)\n",
    "\n",
    "blended = blend_colors(original, new)\n",
    "print(\"\\nBlended array (4x4x3):\")\n",
    "print(blended)\n"
   ]
  }
 ],
 "metadata": {
  "kernelspec": {
   "display_name": "Python 3.7.0 64-bit",
   "language": "python",
   "name": "python3"
  },
  "language_info": {
   "codemirror_mode": {
    "name": "ipython",
    "version": 3
   },
   "file_extension": ".py",
   "mimetype": "text/x-python",
   "name": "python",
   "nbconvert_exporter": "python",
   "pygments_lexer": "ipython3",
   "version": "3.7.0"
  },
  "vscode": {
   "interpreter": {
    "hash": "5109d816b82be14675a6b11f8e0f0d2e80f029176ed3710d54e125caa8520dfd"
   }
  }
 },
 "nbformat": 4,
 "nbformat_minor": 2
}
